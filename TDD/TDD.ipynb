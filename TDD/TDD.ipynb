{
 "cells": [
  {
   "cell_type": "markdown",
   "metadata": {},
   "source": [
    "## TDD(Test driven development):\n",
    "It is software development process where write tests before writing the actual code.\n",
    "\n",
    "TDD cycles:\n",
    "1. Red: Write a test for the next features. This test will fail because the feature hasn't been implemented yet.\n",
    "2. Green: Write the minimum amount of code to pass the test.\n",
    "3. Refactor: clean the code and improve the design and optimize the code without changing its behavior."
   ]
  },
  {
   "cell_type": "markdown",
   "metadata": {},
   "source": [
    "### Testing Methodologies:\n",
    "1. Unit Test: Verify individual components or units of code-like function.\n",
    "2. Integrating Testing: Verify the integration points between different components or service. Ex: `web api and database`.\n",
    "3. Functional Test: Verify the feature. Ex: login features.\n",
    "4. End-to-end Testing: Verify the entire application from start to fininsh, this test involves frontend, backend and any other external servieces. \n",
    "5. Load Testing: Verify how the application performs under heavy traffics.\n",
    "   - Tools: JMeter, K6\n",
    "6. Acceptence Testing: Verify whether the application meets the business requirements and is ready for production.\n",
    "7. Performance Testing: Verify the application's responsiveness, stability, and scalibity.\n",
    "8. Security Testing: Identify vulnarabilities and ensure the application security against attacks.\n",
    "   - OWASP ZAP, Burp Suite."
   ]
  },
  {
   "cell_type": "markdown",
   "metadata": {},
   "source": [
    "### Why do we need mocking in TDD?\n",
    "In TDD, mocking is a technique used to create fake implementation of external dependencies or objects that is required to run a unit of code.\n",
    "\n",
    "***Different types of mocking:***\n",
    "\n",
    "1. Manual Mocking: In this approach we manually create the interfaces that is required for running a unit of code.\n",
    "2. Mocking Framework: `Moq` is a popular framework in .Net Core that simplifies the creation of mock objects.\n",
    "3. Stub Mocking: It returns a predefined data when certain methods are called.\n",
    "4. Fake Objects: Fakes are similar to stub mocks but can have actual implementation.\n",
    "5. Spy Objects: A spy is a type of objects that records information about how it was interacted with.\n",
    "   - verify certain methods are called\n",
    "   - verify with expected arguments.\n",
    "6. Auto mocking: Create mocks for all dependencies of the class being tested. "
   ]
  },
  {
   "cell_type": "markdown",
   "metadata": {},
   "source": [
    "### XUnit Terminology\n",
    "   - Arrange: arrange the objects, create and set them up as necessary.\n",
    "   - Act: \n",
    "   - Assert:\n",
    "  \n",
    "Attribute for Test Method:\n",
    "\n",
    "1. `[Fact]`: Marked as a test method nad does not take any arguments.\n",
    "2. `[Theroy]`: Marked as a data driven test. It allows to pass multiple sets of data to the same test methods.\n",
    "   - `[InlineData]`: \n",
    "   - `[MemberData]`:\n",
    "   - `[ClassData]`:\n",
    "\n",
    "***Common Assertions:***\n",
    "1. `Assert.Equal(expected, actual)`: Verfies that two values are equal.\n",
    "2. `Assert.NotEqual(unexpected, actual)`: Verfies that two values are not equal.\n",
    "3. `Assert.True(condition)`:Verfies that a condition is true.\n",
    "4. `Assert.False(condition)`:Verfies that a condition is false.\n",
    "5. `Assert.Throws<ExceptionType>(delegate)`: verfies that a specific exception happen.\n",
    "6. `Assert.Null(object)`: varifies that a object is Null.\n",
    "7. `Assert.NotNull(object)`: varifies that a object is not Null.\n",
    "\n"
   ]
  },
  {
   "cell_type": "markdown",
   "metadata": {},
   "source": []
  }
 ],
 "metadata": {
  "language_info": {
   "name": "python"
  }
 },
 "nbformat": 4,
 "nbformat_minor": 2
}
